{
 "cells": [
  {
   "cell_type": "code",
   "execution_count": 34,
   "id": "f5b8c2cb",
   "metadata": {},
   "outputs": [],
   "source": [
    "import sagemaker\n",
    "\n",
    "sagemaker_session = sagemaker.Session()\n",
    "\n",
    "bucket = sagemaker_session.default_bucket()\n",
    "prefix = 'time-series-lstm-pytorch'\n",
    "\n",
    "role = sagemaker.get_execution_role()"
   ]
  },
  {
   "cell_type": "code",
   "execution_count": 35,
   "id": "d83f9425",
   "metadata": {},
   "outputs": [
    {
     "data": {
      "text/plain": [
       "'arn:aws:iam::401598941748:role/service-role/AmazonSageMaker-ExecutionRole-20200818T220388'"
      ]
     },
     "execution_count": 35,
     "metadata": {},
     "output_type": "execute_result"
    }
   ],
   "source": [
    "role"
   ]
  },
  {
   "cell_type": "code",
   "execution_count": 36,
   "id": "fefcac62",
   "metadata": {},
   "outputs": [],
   "source": [
    "input_data = sagemaker_session.upload_data(path='/home/ec2-user/SageMaker/data', bucket=bucket, key_prefix=prefix)"
   ]
  },
  {
   "cell_type": "code",
   "execution_count": 37,
   "id": "cf7955e2",
   "metadata": {},
   "outputs": [],
   "source": [
    "from sagemaker.pytorch import PyTorch\n",
    "\n",
    "estimator = PyTorch(entry_point=\"train.py\",\n",
    "                    source_dir=\"train\",\n",
    "                    role=role,\n",
    "                    framework_version='0.4.0',\n",
    "                    instance_count=1,\n",
    "                    instance_type='ml.m4.xlarge',\n",
    "                    py_version=\"py3\",\n",
    "                    hyperparameters={\n",
    "                        'epochs': 100,\n",
    "                        'input_size': 1,\n",
    "                        'hidden_size': 2\n",
    "                    })"
   ]
  },
  {
   "cell_type": "code",
   "execution_count": 38,
   "id": "c043e6b3",
   "metadata": {},
   "outputs": [],
   "source": [
    "import pandas as pd"
   ]
  },
  {
   "cell_type": "code",
   "execution_count": 39,
   "id": "687ed277",
   "metadata": {},
   "outputs": [
    {
     "name": "stdout",
     "output_type": "stream",
     "text": [
      "2021-10-26 09:33:22 Starting - Starting the training job...\n",
      "2021-10-26 09:33:48 Starting - Launching requested ML instancesProfilerReport-1635240802: InProgress\n",
      "......\n",
      "2021-10-26 09:34:48 Starting - Preparing the instances for training...............\n",
      "2021-10-26 09:37:08 Downloading - Downloading input data\n",
      "2021-10-26 09:37:08 Training - Downloading the training image.\u001b[34mbash: cannot set terminal process group (-1): Inappropriate ioctl for device\u001b[0m\n",
      "\u001b[34mbash: no job control in this shell\u001b[0m\n",
      "\u001b[34m2021-10-26 09:37:28,913 sagemaker-containers INFO     Imported framework sagemaker_pytorch_container.training\u001b[0m\n",
      "\u001b[34m2021-10-26 09:37:28,916 sagemaker-containers INFO     No GPUs detected (normal if no gpus installed)\u001b[0m\n",
      "\u001b[34m2021-10-26 09:37:28,930 sagemaker_pytorch_container.training INFO     Block until all host DNS lookups succeed.\u001b[0m\n",
      "\u001b[34m2021-10-26 09:37:28,942 sagemaker_pytorch_container.training INFO     Invoking user training script.\u001b[0m\n",
      "\u001b[34m2021-10-26 09:37:29,473 sagemaker-containers INFO     Module train does not provide a setup.py. \u001b[0m\n",
      "\u001b[34mGenerating setup.py\u001b[0m\n",
      "\u001b[34m2021-10-26 09:37:29,473 sagemaker-containers INFO     Generating setup.cfg\u001b[0m\n",
      "\u001b[34m2021-10-26 09:37:29,474 sagemaker-containers INFO     Generating MANIFEST.in\u001b[0m\n",
      "\u001b[34m2021-10-26 09:37:29,474 sagemaker-containers INFO     Installing module with the following command:\u001b[0m\n",
      "\u001b[34m/usr/bin/python -m pip install -U . \u001b[0m\n",
      "\u001b[34mProcessing /opt/ml/code\u001b[0m\n",
      "\u001b[34mBuilding wheels for collected packages: train\n",
      "  Running setup.py bdist_wheel for train: started\u001b[0m\n",
      "\u001b[34m  Running setup.py bdist_wheel for train: finished with status 'done'\n",
      "  Stored in directory: /tmp/pip-ephem-wheel-cache-m9waj1k3/wheels/35/24/16/37574d11bf9bde50616c67372a334f94fa8356bc7164af8ca3\u001b[0m\n",
      "\u001b[34mSuccessfully built train\u001b[0m\n",
      "\u001b[34mInstalling collected packages: train\u001b[0m\n",
      "\u001b[34mSuccessfully installed train-1.0.0\u001b[0m\n",
      "\u001b[34mYou are using pip version 18.1, however version 20.3.4 is available.\u001b[0m\n",
      "\u001b[34mYou should consider upgrading via the 'pip install --upgrade pip' command.\u001b[0m\n",
      "\u001b[34m2021-10-26 09:37:31,046 sagemaker-containers INFO     No GPUs detected (normal if no gpus installed)\u001b[0m\n",
      "\u001b[34m2021-10-26 09:37:31,065 sagemaker-containers INFO     Invoking user script\n",
      "\u001b[0m\n",
      "\u001b[34mTraining Env:\n",
      "\u001b[0m\n",
      "\u001b[34m{\n",
      "    \"output_data_dir\": \"/opt/ml/output/data\",\n",
      "    \"resource_config\": {\n",
      "        \"network_interface_name\": \"eth0\",\n",
      "        \"current_host\": \"algo-1\",\n",
      "        \"hosts\": [\n",
      "            \"algo-1\"\n",
      "        ]\n",
      "    },\n",
      "    \"additional_framework_parameters\": {},\n",
      "    \"user_entry_point\": \"train.py\",\n",
      "    \"framework_module\": \"sagemaker_pytorch_container.training:main\",\n",
      "    \"output_dir\": \"/opt/ml/output\",\n",
      "    \"log_level\": 20,\n",
      "    \"num_gpus\": 0,\n",
      "    \"job_name\": \"sagemaker-pytorch-2021-10-26-09-33-22-231\",\n",
      "    \"input_data_config\": {\n",
      "        \"training\": {\n",
      "            \"TrainingInputMode\": \"File\",\n",
      "            \"RecordWrapperType\": \"None\",\n",
      "            \"S3DistributionType\": \"FullyReplicated\"\n",
      "        }\n",
      "    },\n",
      "    \"hyperparameters\": {\n",
      "        \"input_size\": 1,\n",
      "        \"epochs\": 100,\n",
      "        \"hidden_size\": 2\n",
      "    },\n",
      "    \"hosts\": [\n",
      "        \"algo-1\"\n",
      "    ],\n",
      "    \"output_intermediate_dir\": \"/opt/ml/output/intermediate\",\n",
      "    \"input_dir\": \"/opt/ml/input\",\n",
      "    \"module_name\": \"train\",\n",
      "    \"current_host\": \"algo-1\",\n",
      "    \"module_dir\": \"s3://sagemaker-us-east-1-401598941748/sagemaker-pytorch-2021-10-26-09-33-22-231/source/sourcedir.tar.gz\",\n",
      "    \"channel_input_dirs\": {\n",
      "        \"training\": \"/opt/ml/input/data/training\"\n",
      "    },\n",
      "    \"input_config_dir\": \"/opt/ml/input/config\",\n",
      "    \"num_cpus\": 4,\n",
      "    \"model_dir\": \"/opt/ml/model\",\n",
      "    \"network_interface_name\": \"eth0\"\u001b[0m\n",
      "\u001b[34m}\n",
      "\u001b[0m\n",
      "\u001b[34mEnvironment variables:\n",
      "\u001b[0m\n",
      "\u001b[34mSM_MODULE_DIR=s3://sagemaker-us-east-1-401598941748/sagemaker-pytorch-2021-10-26-09-33-22-231/source/sourcedir.tar.gz\u001b[0m\n",
      "\u001b[34mSM_HOSTS=[\"algo-1\"]\u001b[0m\n",
      "\u001b[34mSM_INPUT_DATA_CONFIG={\"training\":{\"RecordWrapperType\":\"None\",\"S3DistributionType\":\"FullyReplicated\",\"TrainingInputMode\":\"File\"}}\u001b[0m\n",
      "\u001b[34mSM_NUM_CPUS=4\u001b[0m\n",
      "\u001b[34mSM_CHANNEL_TRAINING=/opt/ml/input/data/training\u001b[0m\n",
      "\u001b[34mSM_HP_INPUT_SIZE=1\u001b[0m\n",
      "\u001b[34mSM_USER_ARGS=[\"--epochs\",\"100\",\"--hidden_size\",\"2\",\"--input_size\",\"1\"]\u001b[0m\n",
      "\u001b[34mSM_HP_EPOCHS=100\u001b[0m\n",
      "\u001b[34mSM_OUTPUT_DIR=/opt/ml/output\u001b[0m\n",
      "\u001b[34mSM_OUTPUT_INTERMEDIATE_DIR=/opt/ml/output/intermediate\u001b[0m\n",
      "\u001b[34mSM_NETWORK_INTERFACE_NAME=eth0\u001b[0m\n",
      "\u001b[34mSM_MODEL_DIR=/opt/ml/model\u001b[0m\n",
      "\u001b[34mSM_USER_ENTRY_POINT=train.py\u001b[0m\n",
      "\u001b[34mSM_CHANNELS=[\"training\"]\u001b[0m\n",
      "\u001b[34mSM_HP_HIDDEN_SIZE=2\u001b[0m\n",
      "\u001b[34mSM_FRAMEWORK_MODULE=sagemaker_pytorch_container.training:main\u001b[0m\n",
      "\u001b[34mSM_INPUT_DIR=/opt/ml/input\u001b[0m\n",
      "\u001b[34mSM_INPUT_CONFIG_DIR=/opt/ml/input/config\u001b[0m\n",
      "\u001b[34mPYTHONPATH=/usr/local/bin:/usr/lib/python35.zip:/usr/lib/python3.5:/usr/lib/python3.5/plat-x86_64-linux-gnu:/usr/lib/python3.5/lib-dynload:/usr/local/lib/python3.5/dist-packages:/usr/lib/python3/dist-packages\u001b[0m\n",
      "\u001b[34mSM_MODULE_NAME=train\u001b[0m\n",
      "\u001b[34mSM_NUM_GPUS=0\u001b[0m\n",
      "\u001b[34mSM_OUTPUT_DATA_DIR=/opt/ml/output/data\u001b[0m\n",
      "\u001b[34mSM_HPS={\"epochs\":100,\"hidden_size\":2,\"input_size\":1}\u001b[0m\n",
      "\u001b[34mSM_FRAMEWORK_PARAMS={}\u001b[0m\n",
      "\u001b[34mSM_CURRENT_HOST=algo-1\u001b[0m\n",
      "\u001b[34mSM_RESOURCE_CONFIG={\"current_host\":\"algo-1\",\"hosts\":[\"algo-1\"],\"network_interface_name\":\"eth0\"}\u001b[0m\n",
      "\u001b[34mSM_TRAINING_ENV={\"additional_framework_parameters\":{},\"channel_input_dirs\":{\"training\":\"/opt/ml/input/data/training\"},\"current_host\":\"algo-1\",\"framework_module\":\"sagemaker_pytorch_container.training:main\",\"hosts\":[\"algo-1\"],\"hyperparameters\":{\"epochs\":100,\"hidden_size\":2,\"input_size\":1},\"input_config_dir\":\"/opt/ml/input/config\",\"input_data_config\":{\"training\":{\"RecordWrapperType\":\"None\",\"S3DistributionType\":\"FullyReplicated\",\"TrainingInputMode\":\"File\"}},\"input_dir\":\"/opt/ml/input\",\"job_name\":\"sagemaker-pytorch-2021-10-26-09-33-22-231\",\"log_level\":20,\"model_dir\":\"/opt/ml/model\",\"module_dir\":\"s3://sagemaker-us-east-1-401598941748/sagemaker-pytorch-2021-10-26-09-33-22-231/source/sourcedir.tar.gz\",\"module_name\":\"train\",\"network_interface_name\":\"eth0\",\"num_cpus\":4,\"num_gpus\":0,\"output_data_dir\":\"/opt/ml/output/data\",\"output_dir\":\"/opt/ml/output\",\"output_intermediate_dir\":\"/opt/ml/output/intermediate\",\"resource_config\":{\"current_host\":\"algo-1\",\"hosts\":[\"algo-1\"],\"network_interface_name\":\"eth0\"},\"user_entry_point\":\"train.py\"}\u001b[0m\n",
      "\u001b[34mSM_LOG_LEVEL=20\n",
      "\u001b[0m\n",
      "\u001b[34mInvoking script with the following command:\n",
      "\u001b[0m\n",
      "\u001b[34m/usr/bin/python -m train --epochs 100 --hidden_size 2 --input_size 1\n",
      "\n",
      "\u001b[0m\n",
      "\u001b[34mCollecting pandas\n",
      "  Downloading https://files.pythonhosted.org/packages/74/24/0cdbf8907e1e3bc5a8da03345c23cbed7044330bb8f73bb12e711a640a00/pandas-0.24.2-cp35-cp35m-manylinux1_x86_64.whl (10.0MB)\u001b[0m\n",
      "\u001b[34mCollecting pytz>=2011k (from pandas)\u001b[0m\n",
      "\u001b[34m  Downloading https://files.pythonhosted.org/packages/d3/e3/d9f046b5d1c94a3aeab15f1f867aa414f8ee9d196fae6865f1d6a0ee1a0b/pytz-2021.3-py2.py3-none-any.whl (503kB)\u001b[0m\n",
      "\u001b[34mRequirement already satisfied: numpy>=1.12.0 in /usr/local/lib/python3.5/dist-packages (from pandas) (1.15.4)\u001b[0m\n",
      "\u001b[34mRequirement already satisfied: python-dateutil>=2.5.0 in /usr/local/lib/python3.5/dist-packages (from pandas) (2.7.5)\u001b[0m\n",
      "\u001b[34mRequirement already satisfied: six>=1.5 in /usr/local/lib/python3.5/dist-packages (from python-dateutil>=2.5.0->pandas) (1.11.0)\u001b[0m\n",
      "\u001b[34mInstalling collected packages: pytz, pandas\u001b[0m\n",
      "\u001b[34mSuccessfully installed pandas-0.24.2 pytz-2021.3\u001b[0m\n",
      "\u001b[34mCollecting torch==1.5.1\n",
      "  Downloading https://files.pythonhosted.org/packages/77/0c/c70f85961ad643801e82276087c8d816ae9b3d9119645313232b73840579/torch-1.5.1-cp35-cp35m-manylinux1_x86_64.whl (753.2MB)\u001b[0m\n",
      "\n",
      "2021-10-26 09:37:49 Training - Training image download completed. Training in progress.\u001b[34mCollecting future (from torch==1.5.1)\n",
      "  Downloading https://files.pythonhosted.org/packages/45/0b/38b06fd9b92dc2b68d58b75f900e97884c45bedd2ff83203d933cf5851c9/future-0.18.2.tar.gz (829kB)\u001b[0m\n",
      "\u001b[34mRequirement already satisfied: numpy in /usr/local/lib/python3.5/dist-packages (from torch==1.5.1) (1.15.4)\u001b[0m\n",
      "\u001b[34mBuilding wheels for collected packages: future\n",
      "  Running setup.py bdist_wheel for future: started\n",
      "  Running setup.py bdist_wheel for future: finished with status 'done'\n",
      "  Stored in directory: /root/.cache/pip/wheels/8b/99/a0/81daf51dcd359a9377b110a8a886b3895921802d2fc1b2397e\u001b[0m\n",
      "\u001b[34mSuccessfully built future\u001b[0m\n",
      "\u001b[34mInstalling collected packages: future, torch\n",
      "  Found existing installation: torch 0.4.0\n",
      "    Uninstalling torch-0.4.0:\u001b[0m\n"
     ]
    },
    {
     "name": "stdout",
     "output_type": "stream",
     "text": [
      "\u001b[34m      Successfully uninstalled torch-0.4.0\u001b[0m\n",
      "\n",
      "2021-10-26 09:39:10 Uploading - Uploading generated training model\u001b[34mSuccessfully installed future-0.18.2 torch-1.5.1\u001b[0m\n",
      "\u001b[34m1.5.1\u001b[0m\n",
      "\u001b[34mUsing device cpu.\u001b[0m\n",
      "\u001b[34mGet train data loader.\u001b[0m\n",
      "\u001b[34mModel loaded with num_classes 1, input_size 1, hidden_size 2, num_layers 1.\u001b[0m\n",
      "\u001b[34mEpoch: 10, BCELoss: 80.87599435055031\u001b[0m\n",
      "\u001b[34mEpoch: 20, BCELoss: 66.59032452781246\u001b[0m\n",
      "\u001b[34mEpoch: 30, BCELoss: 58.37337752108304\u001b[0m\n",
      "\u001b[34mEpoch: 40, BCELoss: 54.94467584142145\u001b[0m\n",
      "\u001b[34mEpoch: 50, BCELoss: 50.56457840721562\u001b[0m\n",
      "\u001b[34mEpoch: 60, BCELoss: 49.01130623187659\u001b[0m\n",
      "\u001b[34mEpoch: 70, BCELoss: 49.753952431228925\u001b[0m\n",
      "\u001b[34mEpoch: 80, BCELoss: 47.798461149323664\u001b[0m\n",
      "\u001b[34mEpoch: 90, BCELoss: 47.5180895913322\u001b[0m\n",
      "\u001b[34mEpoch: 100, BCELoss: 47.570036708184006\u001b[0m\n",
      "\u001b[34m2021-10-26 09:39:08,655 sagemaker-containers INFO     Reporting training SUCCESS\u001b[0m\n",
      "\n",
      "2021-10-26 09:39:29 Completed - Training job completed\n",
      "ProfilerReport-1635240802: NoIssuesFound\n",
      "Training seconds: 138\n",
      "Billable seconds: 138\n"
     ]
    }
   ],
   "source": [
    "estimator.fit({'training': input_data})"
   ]
  },
  {
   "cell_type": "code",
   "execution_count": 26,
   "id": "12dec24d",
   "metadata": {},
   "outputs": [
    {
     "name": "stdout",
     "output_type": "stream",
     "text": [
      "-----------------!"
     ]
    }
   ],
   "source": [
    "predictor=estimator.deploy(initial_instance_count = 1, instance_type = 'ml.m4.xlarge')"
   ]
  },
  {
   "cell_type": "code",
   "execution_count": 27,
   "id": "e401ae0a",
   "metadata": {},
   "outputs": [],
   "source": [
    "from train.predict import get_train_data_loader"
   ]
  },
  {
   "cell_type": "code",
   "execution_count": 28,
   "id": "f29ebd81",
   "metadata": {},
   "outputs": [
    {
     "name": "stdout",
     "output_type": "stream",
     "text": [
      "Get train data loader.\n"
     ]
    }
   ],
   "source": [
    "test_loader = get_train_data_loader(4, '/home/ec2-user/SageMaker/data')"
   ]
  },
  {
   "cell_type": "code",
   "execution_count": 29,
   "id": "c1996947",
   "metadata": {},
   "outputs": [],
   "source": [
    "import torch"
   ]
  },
  {
   "cell_type": "code",
   "execution_count": 30,
   "id": "14dd6e99",
   "metadata": {},
   "outputs": [
    {
     "name": "stdout",
     "output_type": "stream",
     "text": [
      "Predicted OUTPUT =  [[7.083995 ]\n",
      " [7.083894 ]\n",
      " [7.083986 ]\n",
      " [7.0815587]] <class 'numpy.ndarray'>\n",
      "Actual OUTPUT =  tensor([[2.3700],\n",
      "        [4.6000],\n",
      "        [9.4000],\n",
      "        [2.2800]]) <class 'torch.Tensor'>\n",
      "Predicted OUTPUT =  [[7.083707 ]\n",
      " [7.0839105]\n",
      " [7.084081 ]\n",
      " [7.0839186]] <class 'numpy.ndarray'>\n",
      "Actual OUTPUT =  tensor([[0.7870],\n",
      "        [1.9000],\n",
      "        [5.8000],\n",
      "        [1.4700]]) <class 'torch.Tensor'>\n",
      "Predicted OUTPUT =  [[7.083986 ]\n",
      " [7.08321  ]\n",
      " [7.0840597]\n",
      " [7.0837936]] <class 'numpy.ndarray'>\n",
      "Actual OUTPUT =  tensor([[ 9.4000],\n",
      "        [ 0.5200],\n",
      "        [ 1.8200],\n",
      "        [30.6100]]) <class 'torch.Tensor'>\n",
      "Predicted OUTPUT =  [[7.0838313]\n",
      " [7.0837   ]\n",
      " [7.083866 ]\n",
      " [7.0839286]] <class 'numpy.ndarray'>\n",
      "Actual OUTPUT =  tensor([[1.2000],\n",
      "        [1.0500],\n",
      "        [0.8400],\n",
      "        [0.8700]]) <class 'torch.Tensor'>\n",
      "Predicted OUTPUT =  [[7.0838137]\n",
      " [7.084116 ]\n",
      " [7.0839806]\n",
      " [7.083787 ]] <class 'numpy.ndarray'>\n",
      "Actual OUTPUT =  tensor([[ 5.7100],\n",
      "        [ 7.1300],\n",
      "        [92.6000],\n",
      "        [ 7.5000]]) <class 'torch.Tensor'>\n",
      "Predicted OUTPUT =  [[7.083767 ]\n",
      " [7.0837946]\n",
      " [7.0837517]\n",
      " [7.0838847]] <class 'numpy.ndarray'>\n",
      "Actual OUTPUT =  tensor([[11.0000],\n",
      "        [ 0.7300],\n",
      "        [ 6.7900],\n",
      "        [ 5.3500]]) <class 'torch.Tensor'>\n",
      "Predicted OUTPUT =  [[7.0839896]\n",
      " [7.0837564]\n",
      " [7.0838165]\n",
      " [7.0835915]] <class 'numpy.ndarray'>\n",
      "Actual OUTPUT =  tensor([[6.8000],\n",
      "        [0.8300],\n",
      "        [0.6400],\n",
      "        [0.5100]]) <class 'torch.Tensor'>\n",
      "Predicted OUTPUT =  [[7.0839634]\n",
      " [7.0838156]] <class 'numpy.ndarray'>\n",
      "Actual OUTPUT =  tensor([[ 3.6000],\n",
      "        [25.3900]]) <class 'torch.Tensor'>\n"
     ]
    }
   ],
   "source": [
    "for test_data_X, test_data_Y in test_loader:\n",
    "    input_data = test_data_X\n",
    "    input_data = input_data.unsqueeze(-1)\n",
    "    #print(input_data, type(input_data), input_data.size())\n",
    "    output = predictor.predict(input_data)\n",
    "#     output = torch.from_numpy(output).float()\n",
    "    print('Predicted OUTPUT = ', output, type(output))\n",
    "    print('Actual OUTPUT = ', test_data_Y, type(test_data_Y))"
   ]
  },
  {
   "cell_type": "code",
   "execution_count": null,
   "id": "b4d599e3",
   "metadata": {},
   "outputs": [],
   "source": []
  }
 ],
 "metadata": {
  "kernelspec": {
   "display_name": "conda_python3",
   "language": "python",
   "name": "conda_python3"
  },
  "language_info": {
   "codemirror_mode": {
    "name": "ipython",
    "version": 3
   },
   "file_extension": ".py",
   "mimetype": "text/x-python",
   "name": "python",
   "nbconvert_exporter": "python",
   "pygments_lexer": "ipython3",
   "version": "3.6.13"
  }
 },
 "nbformat": 4,
 "nbformat_minor": 5
}
